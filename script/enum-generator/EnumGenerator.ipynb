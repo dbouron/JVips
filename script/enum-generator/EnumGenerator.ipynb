{
 "cells": [
  {
   "cell_type": "code",
   "execution_count": null,
   "metadata": {},
   "outputs": [],
   "source": [
    "import os\n",
    "import re\n",
    "from bs4 import BeautifulSoup\n",
    "from string import Template\n",
    "from itertools import takewhile\n",
    "\n",
    "root = os.path.join(os.getcwd(), 'html')"
   ]
  },
  {
   "cell_type": "code",
   "execution_count": null,
   "metadata": {},
   "outputs": [],
   "source": [
    "license = ''\n",
    "with open('LICENSE', 'r', encoding='utf-8') as infile:\n",
    "    license = infile.read()"
   ]
  },
  {
   "cell_type": "code",
   "execution_count": null,
   "metadata": {},
   "outputs": [],
   "source": [
    "# Utils\n",
    "def clean_html(html):\n",
    "    regex = re.compile('<.*?>')\n",
    "    return re.sub(regex, '', html)\n",
    "\n",
    "def lcp(*s):\n",
    "    return ''.join(a for a,b in takewhile(lambda x: x[0] == x[1], zip(min(s), max(s))))\n",
    "\n",
    "def to_pascal_case(snakeCase):\n",
    "    return snakeCase.title().replace(\"_\", \"\")\n",
    "\n",
    "def to_snake_case(pascalCase):\n",
    "    return '_'.join(re.findall('[A-Z][^A-Z]*', pascalCase)).upper()"
   ]
  },
  {
   "cell_type": "code",
   "execution_count": null,
   "metadata": {},
   "outputs": [],
   "source": [
    "def traverse(root):\n",
    "    # root is the path to html doc\n",
    "    files = [ os.path.join(root, f) for f in os.listdir(root) ]\n",
    "    sources = []\n",
    "    for filename in files:\n",
    "        if (os.path.isdir(filename)):\n",
    "            traverse(filename)\n",
    "        elif (os.path.isfile(filename)):\n",
    "            source = read_html_source(filename)\n",
    "            if source is not None:\n",
    "                sources.append(source)\n",
    "    return sources"
   ]
  },
  {
   "cell_type": "code",
   "execution_count": null,
   "metadata": {},
   "outputs": [],
   "source": [
    "def read_html_source(filename):\n",
    "    ext = os.path.splitext(filename)[1]\n",
    "    if (ext != '.html'):\n",
    "        return None\n",
    "    with open(filename, 'r', encoding='utf-8') as infile:\n",
    "        return infile.read()"
   ]
  },
  {
   "cell_type": "code",
   "execution_count": null,
   "metadata": {},
   "outputs": [],
   "source": [
    "def build_dict(sources):\n",
    "    dictionary = {}\n",
    "    for source in sources:\n",
    "        soup = BeautifulSoup(source)\n",
    "        refsect2 = soup.find_all('div', 'refsect2')\n",
    "        for ref in refsect2:\n",
    "            name = ref.find('a')['name']\n",
    "            header = ref.find('h3').string\n",
    "            if header is not None:\n",
    "                dictionary[name] = { 'name': header, 'data': {} }\n",
    "                # get some extra information for the function\n",
    "                program = ref.find('pre', 'programlisting')\n",
    "                if program is not None:\n",
    "                    dictionary[name]['data']['program'] = program\n",
    "                # get optional arguments information\n",
    "                optional = ref.find('ul', 'itemizedlist')\n",
    "                if optional is not None:\n",
    "                    dictionary[name]['data']['optional'] = optional\n",
    "        refsect3 = soup.find_all('div', 'refsect3')\n",
    "        for ref in refsect3:\n",
    "            components = ref.find('a')['name'].split('.')\n",
    "            if len(components) <= 1:\n",
    "                break\n",
    "            name = components[0]\n",
    "            subname = components[1]\n",
    "            if name in dictionary:\n",
    "                tbody = ref.find_all('tr')\n",
    "                dictionary[name]['data'][subname] = tbody\n",
    "    return dictionary"
   ]
  },
  {
   "cell_type": "code",
   "execution_count": null,
   "metadata": {},
   "outputs": [],
   "source": [
    "def traverse_dictionary(dictionary):\n",
    "    tests = []\n",
    "    for item in dictionary.values():\n",
    "        if \"enum \" in item['name'] and 'members' in item['data']:\n",
    "            compute_enum(item, tests)\n",
    "\n",
    "    tests = ''.join(tests)\n",
    "    # generate enum tests\n",
    "    with open('VipsEnumTestTemplate.c', 'r', encoding='utf-8') as infile:\n",
    "        tpl = infile.read()\n",
    "        with open('test/VipsEnumTest.c', 'w', encoding='utf-8') as outfile:\n",
    "            src = Template(tpl)\n",
    "            src = src.substitute({ 'license': license, 'tests': tests })\n",
    "            outfile.write(src)"
   ]
  },
  {
   "cell_type": "code",
   "execution_count": null,
   "metadata": {},
   "outputs": [],
   "source": [
    "# Enums\n",
    "\n",
    "enum_overwrites = {\n",
    "    \"VIPS_OPERATION_NONE\": 0,\n",
    "    \"VIPS_OPERATION_SEQUENTIAL\": 1,\n",
    "    \"VIPS_OPERATION_SEQUENTIAL_UNBUFFERED\": 2,\n",
    "    \"VIPS_OPERATION_NOCACHE\": 4,\n",
    "    \"VIPS_OPERATION_DEPRECATED\": 8,\n",
    "    \"VIPS_FOREIGN_NONE\": 0,\n",
    "    \"VIPS_FOREIGN_PARTIAL\": 1,\n",
    "    \"VIPS_FOREIGN_BIGENDIAN\": 2,\n",
    "    \"VIPS_FOREIGN_SEQUENTIAL\": 4,\n",
    "    \"VIPS_FOREIGN_ALL\": 7,\n",
    "}\n",
    "\n",
    "def compute_enum(item, tests):\n",
    "    members = []\n",
    "    # remove 'enum' prefix\n",
    "    name = item['name'].split(' ')[1]\n",
    "    tbody = item['data']['members']\n",
    "    for tr in tbody:\n",
    "        member_name = tr.find('td', 'enum_member_name').p.contents[1]\n",
    "        member_desc = tr.find('td', 'enum_member_description')\n",
    "        description = None\n",
    "        if member_desc and member_desc.p:\n",
    "            description = member_desc.p.string\n",
    "        members.append({ 'name': member_name, 'description': description})\n",
    "    with open('EnumTemplate.java', 'r', encoding='utf-8') as infile:\n",
    "        tpl = infile.read()\n",
    "        sep = ',\\n'\n",
    "        cpt = 0\n",
    "        values = []\n",
    "        tests.append(f'    // {name}\\n')\n",
    "        for member in members:\n",
    "            cname = member['name']\n",
    "            value = to_pascal_case(cname)\n",
    "            description = member['description']\n",
    "            index = len(lcp(value, name))\n",
    "            fcpt = cpt\n",
    "            if cname in enum_overwrites:\n",
    "                fcpt = enum_overwrites[cname]\n",
    "            value = value[index:]\n",
    "            tests.append(f'    assertEqualsNativeEnumValue(env, {cname}, \"com/criteo/vips/enums/{name}\", \"{value}\");\\n')\n",
    "            value = f\"    {value}({fcpt})\"\n",
    "            cpt += 1\n",
    "            if description is not None:\n",
    "                value = f\"    // {description}\\n{value}\"\n",
    "            values.append(value)\n",
    "        # generate enum class file\n",
    "        with open(f'enums/{name}.java', 'w', encoding='utf-8') as outfile:\n",
    "            src = Template(tpl)\n",
    "            values = sep.join(values)\n",
    "            src = src.substitute({ 'license': license, 'name': name, 'values': values })\n",
    "            outfile.write(src)"
   ]
  },
  {
   "cell_type": "code",
   "execution_count": null,
   "metadata": {},
   "outputs": [],
   "source": [
    "def generate_wrapper():\n",
    "    sources = traverse(root)\n",
    "    dictionary = build_dict(sources)\n",
    "    traverse_dictionary(dictionary)\n",
    "\n",
    "generate_wrapper()"
   ]
  },
  {
   "cell_type": "code",
   "execution_count": null,
   "metadata": {},
   "outputs": [],
   "source": []
  }
 ],
 "metadata": {
  "kernelspec": {
   "display_name": "Python 3",
   "language": "python",
   "name": "python3"
  },
  "language_info": {
   "codemirror_mode": {
    "name": "ipython",
    "version": 3
   },
   "file_extension": ".py",
   "mimetype": "text/x-python",
   "name": "python",
   "nbconvert_exporter": "python",
   "pygments_lexer": "ipython3",
   "version": "3.6.9"
  }
 },
 "nbformat": 4,
 "nbformat_minor": 4
}
